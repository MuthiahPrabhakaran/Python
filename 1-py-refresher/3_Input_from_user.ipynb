{
 "cells": [
  {
   "cell_type": "markdown",
   "metadata": {},
   "source": [
    "## Input from User"
   ]
  },
  {
   "cell_type": "code",
   "execution_count": 1,
   "metadata": {},
   "outputs": [
    {
     "name": "stdout",
     "output_type": "stream",
     "text": [
      "Enter the first number: 12\n",
      "Enter the second number: 23\n",
      "1223\n"
     ]
    }
   ],
   "source": [
    "i = input(\"Enter the first number: \")\n",
    "j = input(\"Enter the second number: \")\n",
    "print(i+j)"
   ]
  },
  {
   "cell_type": "code",
   "execution_count": 2,
   "metadata": {},
   "outputs": [
    {
     "name": "stdout",
     "output_type": "stream",
     "text": [
      "Enter the first number: 12\n",
      "Enter the second number: 23\n",
      "35\n"
     ]
    }
   ],
   "source": [
    "# Type casting. Default return type is String\n",
    "i = int(input(\"Enter the first number: \"))\n",
    "j = int(input(\"Enter the second number: \"))\n",
    "print(i+j)"
   ]
  },
  {
   "cell_type": "markdown",
   "metadata": {},
   "source": [
    "## Formatting a String\n",
    "%s for String<br>\n",
    "%d for numbers"
   ]
  },
  {
   "cell_type": "code",
   "execution_count": 5,
   "metadata": {},
   "outputs": [
    {
     "name": "stdout",
     "output_type": "stream",
     "text": [
      "Enter your name: MP\n",
      "Enter the weight in kgs: 60\n",
      "Enter the height in meters: 160\n",
      "Hi MP, Your BMI is 0\n"
     ]
    }
   ],
   "source": [
    "# Finding BMI\n",
    "n = input(\"Enter your name: \")\n",
    "w = float(input(\"Enter the weight in kgs: \"))\n",
    "h = float(input(\"Enter the height in meters: \"))\n",
    "bmi = w/(h**2)\n",
    "print(\"Hi %s, Your BMI is %d\" %(n,bmi))"
   ]
  },
  {
   "cell_type": "markdown",
   "metadata": {},
   "source": [
    "## We can use format function with Dictionary also"
   ]
  },
  {
   "cell_type": "code",
   "execution_count": 7,
   "metadata": {},
   "outputs": [
    {
     "name": "stdout",
     "output_type": "stream",
     "text": [
      "Hi MP, Your BMI is 0.00234375\n"
     ]
    }
   ],
   "source": [
    "print(\"Hi {0}, Your BMI is {1}\".format(n, bmi))"
   ]
  }
 ],
 "metadata": {
  "kernelspec": {
   "display_name": "Python 3",
   "language": "python",
   "name": "python3"
  },
  "language_info": {
   "codemirror_mode": {
    "name": "ipython",
    "version": 3
   },
   "file_extension": ".py",
   "mimetype": "text/x-python",
   "name": "python",
   "nbconvert_exporter": "python",
   "pygments_lexer": "ipython3",
   "version": "3.7.3"
  }
 },
 "nbformat": 4,
 "nbformat_minor": 2
}
