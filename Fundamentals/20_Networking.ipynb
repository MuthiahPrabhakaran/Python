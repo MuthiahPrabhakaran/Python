{
 "cells": [
  {
   "cell_type": "markdown",
   "metadata": {},
   "source": [
    "<pre>\n",
    "<img src=\"osi.png\"/>\n",
    "When two servers/machines communicates with each other, the communication follows certain order which is mentioned in the OSI model.\n",
    "From botton:\n",
    "    1. Physical layer - defines the medium of communication(Air in bluetooth, usb cable during mobile to PC data transfer)\n",
    "    2. Data Link layer - defining what will be the transmission\n",
    "    3. Network(attaches source and destination address to data) and Transport layer(ensures data is in proper manner, like not broken data) comes into picture when we do something with internet. Transport layer has two protocol(TCP and UDP)\n",
    "    \n",
    "    During internet communication, we uses TCP/IP communication.\n",
    "    <b>Socket Programming</b> - network concept in python\n",
    "    What is socket? - simple endpoints which can be used to communicate with each other(machine).\n",
    "    \n",
    "    For networking - we work in Transport layer with two protocols.\n",
    "        1. TCP - Transmission Control Protocol\n",
    "        2. UDP - Unit Datagram Protocol\n",
    "        \n",
    "    Once the communication is established, then the application layer protocol like http, https, mqtt will work.\n",
    "</pre>\n"
   ]
  },
  {
   "cell_type": "code",
   "execution_count": null,
   "metadata": {},
   "outputs": [],
   "source": []
  }
 ],
 "metadata": {
  "kernelspec": {
   "display_name": "Python 3",
   "language": "python",
   "name": "python3"
  },
  "language_info": {
   "codemirror_mode": {
    "name": "ipython",
    "version": 3
   },
   "file_extension": ".py",
   "mimetype": "text/x-python",
   "name": "python",
   "nbconvert_exporter": "python",
   "pygments_lexer": "ipython3",
   "version": "3.7.3"
  }
 },
 "nbformat": 4,
 "nbformat_minor": 2
}
