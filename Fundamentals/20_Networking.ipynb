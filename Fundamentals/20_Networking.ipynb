{
 "cells": [
  {
   "cell_type": "markdown",
   "metadata": {},
   "source": [
    "<pre>\n",
    "<img src=\"osi.png\"/>\n",
    "When two servers/machines communicates with each other, the communication follows certain order which is mentioned in the OSI model.\n",
    "From botton:\n",
    "    1. Physical layer - defines the physical medium of communication(Air in bluetooth, usb cable during mobile to PC data transfer)\n",
    "    2. Data Link layer - defining what will be the transmission. It has two subs. LLC - Logical link layer - which creates frames to transmit. MAC - Media Access Controller - acts as a transmitter and receiver.\n",
    "    3. Network layer - defines where the data is going\n",
    "        3.1. Network(attaches source and destination address to data.) and Transport layer(ensures data is in proper manner, like not broken data) comes into picture when we do something with internet. Transport layer has two protocol(TCP and UDP)\n",
    "    4. Transport layer - defines how the communication is going to happen.It ensures the reliability of transport. Data has to go properly to the receiver. On top of transport layer comes the application layer(session and presentation layer are part of application layer)\n",
    "    5. Application layer - http, smtp protocols,etc are app layer protocols. App layer sends and receives the data. It built on top of transport layer protocols.\n",
    "    \n",
    "    During internet communication, we uses TCP/IP communication.\n",
    "    <b>Socket Programming</b> - network concept in python. It comes in transport layer.\n",
    "    What is socket? - simple endpoints which can be used to communicate with each other(machine).\n",
    "    \n",
    "    For networking - we work on sockets with two protocols.\n",
    "        1. TCP - Transmission Control Protocol\n",
    "        2. UDP - User Datagram Protocol\n",
    "        \n",
    "    Once the communication is established, then the application layer protocol like http, https, mqtt will work.\n",
    "</pre>\n"
   ]
  },
  {
   "cell_type": "code",
   "execution_count": null,
   "metadata": {},
   "outputs": [],
   "source": []
  }
 ],
 "metadata": {
  "kernelspec": {
   "display_name": "Python 3",
   "language": "python",
   "name": "python3"
  },
  "language_info": {
   "codemirror_mode": {
    "name": "ipython",
    "version": 3
   },
   "file_extension": ".py",
   "mimetype": "text/x-python",
   "name": "python",
   "nbconvert_exporter": "python",
   "pygments_lexer": "ipython3",
   "version": "3.7.3"
  }
 },
 "nbformat": 4,
 "nbformat_minor": 2
}
