{
 "cells": [
  {
   "cell_type": "markdown",
   "metadata": {},
   "source": [
    "### Useful functions for file operations\n",
    "\n",
    "print() -> To write into the console<br>\n",
    "input() -> To read data from user<br>\n",
    "open() -> To open the file\n",
    "\n",
    "Syntax for opening a file:</br>\n",
    "<b>open(file_name, access_mode, buffering)</b>\n",
    "\n",
    "<b>access_mode</b> - read(r), write(w), append(a) (default mode is read)\n",
    "\n",
    "<b>buffering(is optional)</b>\n",
    "<ul>\n",
    "    <li>0 - No buffering</li>\n",
    "    <li>1 - Line buffering while accessing the file</li>\n",
    "    <li>>1 - Indication of buffering with buffer size</li>\n",
    "    <li>Negative is system default</li>\n",
    "</ul>"
   ]
  },
  {
   "cell_type": "code",
   "execution_count": 4,
   "metadata": {},
   "outputs": [
    {
     "ename": "FileNotFoundError",
     "evalue": "[Errno 2] No such file or directory: 'Test.txt'",
     "output_type": "error",
     "traceback": [
      "\u001b[1;31m---------------------------------------------------------------------------\u001b[0m",
      "\u001b[1;31mFileNotFoundError\u001b[0m                         Traceback (most recent call last)",
      "\u001b[1;32m<ipython-input-4-1a8bab4b70b9>\u001b[0m in \u001b[0;36m<module>\u001b[1;34m\u001b[0m\n\u001b[1;32m----> 1\u001b[1;33m \u001b[0mf\u001b[0m \u001b[1;33m=\u001b[0m \u001b[0mopen\u001b[0m\u001b[1;33m(\u001b[0m\u001b[1;34m\"Test.txt\"\u001b[0m\u001b[1;33m,\u001b[0m\u001b[1;34m\"r\"\u001b[0m\u001b[1;33m)\u001b[0m\u001b[1;33m\u001b[0m\u001b[1;33m\u001b[0m\u001b[0m\n\u001b[0m",
      "\u001b[1;31mFileNotFoundError\u001b[0m: [Errno 2] No such file or directory: 'Test.txt'"
     ]
    }
   ],
   "source": [
    "f = open(\"Test.txt\")"
   ]
  },
  {
   "cell_type": "code",
   "execution_count": null,
   "metadata": {},
   "outputs": [],
   "source": []
  }
 ],
 "metadata": {
  "kernelspec": {
   "display_name": "Python 3",
   "language": "python",
   "name": "python3"
  }
 },
 "nbformat": 4,
 "nbformat_minor": 2
}
