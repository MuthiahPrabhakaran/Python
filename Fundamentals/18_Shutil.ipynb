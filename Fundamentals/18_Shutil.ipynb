{
 "cells": [
  {
   "cell_type": "markdown",
   "metadata": {},
   "source": [
    "<pre><b>\n",
    "We can automate copy/move/remove files and directories. Why it is needed when we have other modules to open and read the file?\n",
    "\n",
    "In this module, we don't need to explicitly write open/close task. It will be done internally. So we can save time. \n",
    "</pre></b>"
   ]
  },
  {
   "cell_type": "code",
   "execution_count": 1,
   "metadata": {},
   "outputs": [],
   "source": [
    "import os\n",
    "import shutil"
   ]
  },
  {
   "cell_type": "markdown",
   "metadata": {},
   "source": [
    "<pre><b>Copy\n",
    "Copying the file into a directory\n",
    "If the file is already there with the same name, it will be overridden. If the directory is already there, we will get an exception\n",
    "</b></pre>"
   ]
  },
  {
   "cell_type": "code",
   "execution_count": 7,
   "metadata": {},
   "outputs": [
    {
     "data": {
      "text/plain": [
       "'shutil\\\\example.txt'"
      ]
     },
     "execution_count": 7,
     "metadata": {},
     "output_type": "execute_result"
    }
   ],
   "source": [
    "os.mkdir(\"shutil\")\n",
    "shutil.copy(\"example.txt\",\"shutil\")"
   ]
  },
  {
   "cell_type": "markdown",
   "metadata": {},
   "source": [
    "<pre><b>Copying the file into another file</b></pre>"
   ]
  },
  {
   "cell_type": "code",
   "execution_count": 9,
   "metadata": {},
   "outputs": [
    {
     "data": {
      "text/plain": [
       "'shutil/another_example.txt'"
      ]
     },
     "execution_count": 9,
     "metadata": {},
     "output_type": "execute_result"
    }
   ],
   "source": [
    "shutil.copy(\"example.txt\",\"shutil/another_example.txt\")"
   ]
  },
  {
   "cell_type": "markdown",
   "metadata": {},
   "source": [
    "<pre><b>\n",
    "Move a file\n",
    "</pre></b>"
   ]
  },
  {
   "cell_type": "code",
   "execution_count": 2,
   "metadata": {},
   "outputs": [
    {
     "name": "stdout",
     "output_type": "stream",
     "text": [
      "['.ipynb_checkpoints', '10_Exceptions_and_Assertions.ipynb', '11_Class.ipynb', '12_1_Inheritance.ipynb', '12_2_Access_Modifiers.ipynb', '12_Inheritance.ipynb', '13_Math.ipynb', '14_Random.ipynb', '15_Timeit.ipynb', '16_Date_and_Time.ipynb', '17_Urllib.ipynb', '18_Shutil.ipynb', '3_Input_from_user.ipynb', '4_Operators.ipynb', '5_Functions.ipynb', '6_Recursion.ipynb', '7_Modules.ipynb', '8_File_Operations.ipynb', '9_OS_Operations.ipynb', 'another_example.txt', 'copied file.txt', 'Datatypes.ipynb', 'example.txt', 'Exercises.ipynb', 'FilePosition.txt', 'football.jpg', 'Inheritance.py', 'Methods.ipynb', 'my_module.py', 'Not Found.txt', 'output-from-google.txt', 'shutil', 'String_Operations.ipynb', 'Updated Test.txt', 'Useful Functions.ipynb', 'WithStatement.txt', 'WritableFile.txt', '__pycache__']\n"
     ]
    }
   ],
   "source": [
    "files_list = os.listdir(r\"C:\\Users\\Dallps\\Documents\\SourceTree\\Python\\Fundamentals\")\n",
    "print(files_list)"
   ]
  },
  {
   "cell_type": "code",
   "execution_count": 14,
   "metadata": {},
   "outputs": [],
   "source": [
    "for f in files_list:\n",
    "    if f.endswith(\".txt\"):\n",
    "        shutil.copy(f,\"shutil\")"
   ]
  },
  {
   "cell_type": "code",
   "execution_count": 11,
   "metadata": {},
   "outputs": [
    {
     "data": {
      "text/plain": [
       "'C:\\\\Users\\\\Dallps\\\\Documents\\\\SourceTree\\\\Python\\\\Fundamentals\\\\shutil\\\\Updated Test.txt'"
      ]
     },
     "execution_count": 11,
     "metadata": {},
     "output_type": "execute_result"
    }
   ],
   "source": [
    "destination = r\"C:\\Users\\Dallps\\Documents\\SourceTree\\Python\\Fundamentals\\shutil\"\n",
    "shutil.move(\"Updated Test.txt\",destination)\n",
    "# shutil.move(\"Updated Test.txt\", \"shutil\")"
   ]
  },
  {
   "cell_type": "markdown",
   "metadata": {},
   "source": [
    "<pre><b>\n",
    "Move a directory\n",
    "</pre></b>"
   ]
  },
  {
   "cell_type": "code",
   "execution_count": 12,
   "metadata": {},
   "outputs": [
    {
     "data": {
      "text/plain": [
       "'shutil\\\\dummy-dir'"
      ]
     },
     "execution_count": 12,
     "metadata": {},
     "output_type": "execute_result"
    }
   ],
   "source": [
    "shutil.move(\"dummy-dir\",\"shutil\")"
   ]
  },
  {
   "cell_type": "markdown",
   "metadata": {},
   "source": [
    "<pre><b>\n",
    "Copy2 - it will copy the created time, updated time(, other attributes) and access permission also\n",
    "</pre></b>"
   ]
  },
  {
   "cell_type": "code",
   "execution_count": 3,
   "metadata": {},
   "outputs": [],
   "source": [
    "import time"
   ]
  },
  {
   "cell_type": "code",
   "execution_count": 9,
   "metadata": {},
   "outputs": [
    {
     "name": "stdout",
     "output_type": "stream",
     "text": [
      "Source:\n",
      "created:  Sat Aug 15 19:08:16 2020\n",
      "accessed:  Sun Aug 16 09:10:28 2020\n",
      "modified:  Wed Aug 12 13:44:03 2020\n",
      "Destination:\n",
      "created:  Sun Aug 16 09:10:43 2020\n",
      "accessed:  Sun Aug 16 09:10:43 2020\n",
      "modified:  Wed Aug 12 13:44:03 2020\n"
     ]
    }
   ],
   "source": [
    "def show_file_info(file_name):\n",
    "    stats = os.stat(file_name)\n",
    "    print(\"mode: \",oct(stats.st_m))\n",
    "    print(\"created: \",time.ctime(stats.st_ctime))\n",
    "    print(\"accessed: \",time.ctime(stats.st_atime))\n",
    "    print(\"modified: \",time.ctime(stats.st_mtime))\n",
    "    return\n",
    "os.mkdir(\"dummy\")\n",
    "print(\"Source:\")\n",
    "show_file_info(\"Updated Test.txt\")\n",
    "\n",
    "shutil.copy2(\"Updated Test.txt\",\"dummy\")\n",
    "print(\"Destination:\")\n",
    "show_file_info(\"dummy/Updated Test.txt\")"
   ]
  },
  {
   "cell_type": "markdown",
   "metadata": {},
   "source": [
    "<pre><b>\n",
    "To create a directory at run time and copy the directory structure as it is</pre></b>"
   ]
  },
  {
   "cell_type": "code",
   "execution_count": 11,
   "metadata": {},
   "outputs": [
    {
     "data": {
      "text/plain": [
       "'C:\\\\Users\\\\Dallps\\\\Documents\\\\SourceTree\\\\Python\\\\Fundamentals\\\\backup-dummy'"
      ]
     },
     "execution_count": 11,
     "metadata": {},
     "output_type": "execute_result"
    }
   ],
   "source": [
    "source = r\"C:\\Users\\Dallps\\Documents\\SourceTree\\Python\\Fundamentals\\dummy\"\n",
    "backup = r\"C:\\Users\\Dallps\\Documents\\SourceTree\\Python\\Fundamentals\\backup-dummy\" # backup-dummy doesn't exist now\n",
    "shutil.copytree(source,backup)"
   ]
  },
  {
   "cell_type": "markdown",
   "metadata": {},
   "source": [
    "<pre><b>\n",
    "To remove the directory structure as it is</pre></b>"
   ]
  },
  {
   "cell_type": "code",
   "execution_count": 12,
   "metadata": {},
   "outputs": [],
   "source": [
    "shutil.rmtree(r\"C:\\Users\\Dallps\\Documents\\SourceTree\\Python\\Fundamentals\\backup-dummy\")"
   ]
  }
 ],
 "metadata": {
  "kernelspec": {
   "display_name": "Python 3",
   "language": "python",
   "name": "python3"
  },
  "language_info": {
   "codemirror_mode": {
    "name": "ipython",
    "version": 3
   },
   "file_extension": ".py",
   "mimetype": "text/x-python",
   "name": "python",
   "nbconvert_exporter": "python",
   "pygments_lexer": "ipython3",
   "version": "3.7.3"
  }
 },
 "nbformat": 4,
 "nbformat_minor": 2
}
