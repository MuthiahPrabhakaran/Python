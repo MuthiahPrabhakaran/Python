{
 "cells": [
  {
   "cell_type": "markdown",
   "metadata": {},
   "source": [
    "### Syntax:\n",
    "\n",
    "<pre>\n",
    "class x:\n",
    "    statements\n",
    "\n",
    "class z(<b>x</b>):\n",
    "    statements\n",
    "\n",
    "class z will inherit all the properties and behaviours from class x\n",
    "</pre>"
   ]
  },
  {
   "cell_type": "code",
   "execution_count": 8,
   "metadata": {},
   "outputs": [],
   "source": [
    "class A:\n",
    "    x = 6\n",
    "    def my_fun(self):\n",
    "        print(\"class A\")\n",
    "\n",
    "class B:\n",
    "    y = 7\n",
    "    def my_fun(self):\n",
    "        print(\"class B\")\n",
    "        return\n",
    "    \n",
    "class C:\n",
    "    z = 8\n",
    "    def some_fun(self):\n",
    "        print(\"class C\")\n",
    "        return\n",
    "    \n",
    "class D(A):\n",
    "    def my_fun1(self):\n",
    "        print(\"class D\")"
   ]
  },
  {
   "cell_type": "code",
   "execution_count": 9,
   "metadata": {},
   "outputs": [
    {
     "name": "stdout",
     "output_type": "stream",
     "text": [
      "class A\n",
      "class D\n",
      "6\n"
     ]
    }
   ],
   "source": [
    "obj = D()\n",
    "obj.my_fun()\n",
    "obj.my_fun1()\n",
    "print(obj.x)"
   ]
  },
  {
   "cell_type": "markdown",
   "metadata": {},
   "source": [
    "### Multiple inheritance is allowed \n",
    "\n",
    "Overloading is not allowed"
   ]
  },
  {
   "cell_type": "code",
   "execution_count": 16,
   "metadata": {},
   "outputs": [],
   "source": [
    "class E(B,C,D):\n",
    "    def my_fun2():\n",
    "        print(\"class E\")"
   ]
  },
  {
   "cell_type": "markdown",
   "metadata": {},
   "source": [
    "<b>If two class have the same function name, function inside the first class mentioned inside the bracket will get executed</b>"
   ]
  },
  {
   "cell_type": "code",
   "execution_count": 17,
   "metadata": {},
   "outputs": [],
   "source": [
    "e = E()"
   ]
  },
  {
   "cell_type": "code",
   "execution_count": 18,
   "metadata": {},
   "outputs": [
    {
     "name": "stdout",
     "output_type": "stream",
     "text": [
      "class B\n"
     ]
    }
   ],
   "source": [
    "e.my_fun()"
   ]
  }
 ],
 "metadata": {
  "kernelspec": {
   "display_name": "Python 3",
   "language": "python",
   "name": "python3"
  },
  "language_info": {
   "codemirror_mode": {
    "name": "ipython",
    "version": 3
   },
   "file_extension": ".py",
   "mimetype": "text/x-python",
   "name": "python",
   "nbconvert_exporter": "python",
   "pygments_lexer": "ipython3",
   "version": "3.7.3"
  }
 },
 "nbformat": 4,
 "nbformat_minor": 2
}
