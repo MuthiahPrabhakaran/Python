{
 "cells": [
  {
   "cell_type": "markdown",
   "metadata": {},
   "source": [
    "### Syntax\n",
    "\n",
    "<pre>\n",
    "class myclass:\n",
    "    variables...\n",
    "    functions...\n",
    "</pre>\n",
    "\n",
    "### To create an object for class\n",
    "\n",
    "<pre>\n",
    "    variable = classname()\n",
    "    <b>We can access the members using dot operator</b>\n",
    "To access the function, we have to pass the instance which is <b>self</b>. self is a commonly used word. We can have any name instead of self.\n",
    "self is making the partifular class to become the owner of the function. It is like a nameplate which is placed outside of the home.\n",
    "</pre>"
   ]
  },
  {
   "cell_type": "code",
   "execution_count": 27,
   "metadata": {},
   "outputs": [],
   "source": [
    "class A:\n",
    "    x = 5\n",
    "    y = 6\n",
    "    def myfunc():\n",
    "        print(\"Hello world\")"
   ]
  },
  {
   "cell_type": "code",
   "execution_count": 28,
   "metadata": {},
   "outputs": [
    {
     "name": "stdout",
     "output_type": "stream",
     "text": [
      "5\n",
      "6\n"
     ]
    },
    {
     "ename": "AttributeError",
     "evalue": "'A' object has no attribute 'my_func'",
     "output_type": "error",
     "traceback": [
      "\u001b[1;31m---------------------------------------------------------------------------\u001b[0m",
      "\u001b[1;31mAttributeError\u001b[0m                            Traceback (most recent call last)",
      "\u001b[1;32m<ipython-input-28-bf40a4cf0687>\u001b[0m in \u001b[0;36m<module>\u001b[1;34m\u001b[0m\n\u001b[0;32m      2\u001b[0m \u001b[0mprint\u001b[0m\u001b[1;33m(\u001b[0m\u001b[0ms\u001b[0m\u001b[1;33m.\u001b[0m\u001b[0mx\u001b[0m\u001b[1;33m)\u001b[0m\u001b[1;33m\u001b[0m\u001b[1;33m\u001b[0m\u001b[0m\n\u001b[0;32m      3\u001b[0m \u001b[0mprint\u001b[0m\u001b[1;33m(\u001b[0m\u001b[0ms\u001b[0m\u001b[1;33m.\u001b[0m\u001b[0my\u001b[0m\u001b[1;33m)\u001b[0m\u001b[1;33m\u001b[0m\u001b[1;33m\u001b[0m\u001b[0m\n\u001b[1;32m----> 4\u001b[1;33m \u001b[0ms\u001b[0m\u001b[1;33m.\u001b[0m\u001b[0mmy_func\u001b[0m\u001b[1;33m(\u001b[0m\u001b[1;33m)\u001b[0m\u001b[1;33m\u001b[0m\u001b[1;33m\u001b[0m\u001b[0m\n\u001b[0m",
      "\u001b[1;31mAttributeError\u001b[0m: 'A' object has no attribute 'my_func'"
     ]
    }
   ],
   "source": [
    "s = A()\n",
    "print(s.x)\n",
    "print(s.y)\n",
    "s.my_func()"
   ]
  },
  {
   "cell_type": "code",
   "execution_count": 29,
   "metadata": {},
   "outputs": [],
   "source": [
    "class A:\n",
    "    x = 5\n",
    "    y = 6\n",
    "    def myfunc(self):\n",
    "        print(\"Hello world\")\n",
    "    def add_numbers(self,a,b):\n",
    "        return a+b"
   ]
  },
  {
   "cell_type": "code",
   "execution_count": 30,
   "metadata": {},
   "outputs": [
    {
     "name": "stdout",
     "output_type": "stream",
     "text": [
      "Hello world\n",
      "3\n"
     ]
    }
   ],
   "source": [
    "s = A()\n",
    "s.myfunc()\n",
    "print(s.add_numbers(1,2))"
   ]
  },
  {
   "cell_type": "markdown",
   "metadata": {},
   "source": [
    "#### Global Variable\n",
    "\n",
    "<pre>If we create a variable with reference to class inside a function, other function also can access the variable.\n",
    "\n",
    "Variable will become a global variable if we use the keyword self.\n",
    "\n",
    "<b>All the global variables should be access with the keyword self</b>\n",
    "\n",
    "class myclass:\n",
    "    def myfun(self):\n",
    "        self.x = 10\n",
    "    \n",
    "    def anotherfun(self):\n",
    "        print(self.x)\n",
    "\n",
    "</pre>"
   ]
  },
  {
   "cell_type": "code",
   "execution_count": 45,
   "metadata": {},
   "outputs": [
    {
     "name": "stdout",
     "output_type": "stream",
     "text": [
      "10\n",
      "5\n"
     ]
    }
   ],
   "source": [
    "class A:\n",
    "    \"My first class in python\"\n",
    "    x = 5\n",
    "    y = 6\n",
    "    def myfunc(self):\n",
    "        self.z = 10\n",
    "    def add_numbers(self):\n",
    "        print(self.z)\n",
    "        print(self.x)\n",
    "\n",
    "s = A()\n",
    "s.myfunc()\n",
    "s.add_numbers()"
   ]
  },
  {
   "cell_type": "markdown",
   "metadata": {},
   "source": [
    "### Built in functions\n",
    "\n",
    "<pre>To access the document string we can use __doc__\n",
    "\n",
    "Documentation string in function is for our own reference. We can't access doc string in functions.\n",
    "\n",
    "class has a higher scope and purpose. So we can access\n",
    "</pre>"
   ]
  },
  {
   "cell_type": "code",
   "execution_count": 46,
   "metadata": {},
   "outputs": [
    {
     "name": "stdout",
     "output_type": "stream",
     "text": [
      "My first class in python\n"
     ]
    }
   ],
   "source": [
    "print(s.__doc__)"
   ]
  },
  {
   "cell_type": "markdown",
   "metadata": {},
   "source": [
    "### Init\n",
    "\n",
    "<pre>\n",
    "\n",
    "It is the constructor, gets called when object gets created for the class\n",
    "\n",
    "<b>syntax:</b>\n",
    "\n",
    "    def __init__(self):\n",
    "        statements\n",
    "\n",
    "<b>See the below example. If you increase the count by employee.count, it will be like a common count pool. It will increase the count irrespective of number of objects created. If you increase using self.count += 1, It is unique for each and every object</b>\n",
    "</pre>"
   ]
  },
  {
   "cell_type": "code",
   "execution_count": 60,
   "metadata": {},
   "outputs": [],
   "source": [
    "class employee:\n",
    "    count = 0\n",
    "    def __init__(self, name, age):\n",
    "        self.name = name\n",
    "        self.age = age\n",
    "        employee.count += 1\n",
    "        \n",
    "    def get_employees_count(self):\n",
    "        print(\"Total employees: \",self.count)\n",
    "        return\n",
    "    \n",
    "    def get_employee_details(self):\n",
    "        print(\"Employee name: {0}, Age:{1}\".format(self.name, self.age))\n",
    "        return"
   ]
  },
  {
   "cell_type": "code",
   "execution_count": 64,
   "metadata": {},
   "outputs": [
    {
     "name": "stdout",
     "output_type": "stream",
     "text": [
      "Employee name: MP, Age:20\n",
      "20\n"
     ]
    }
   ],
   "source": [
    "emp1 = employee(\"MP\", 20)\n",
    "emp1.get_employee_details()\n",
    "print(emp1.age)"
   ]
  },
  {
   "cell_type": "code",
   "execution_count": 62,
   "metadata": {},
   "outputs": [
    {
     "name": "stdout",
     "output_type": "stream",
     "text": [
      "Employee name: Bella, Age:20\n",
      "Total employees:  2\n"
     ]
    }
   ],
   "source": [
    "emp2 = employee(\"Bella\", 20)\n",
    "emp2.get_employee_details()\n",
    "emp2.get_employees_count()"
   ]
  },
  {
   "cell_type": "markdown",
   "metadata": {},
   "source": [
    "### some more inbuilt functions"
   ]
  },
  {
   "cell_type": "code",
   "execution_count": 66,
   "metadata": {},
   "outputs": [
    {
     "data": {
      "text/plain": [
       "'employee'"
      ]
     },
     "execution_count": 66,
     "metadata": {},
     "output_type": "execute_result"
    }
   ],
   "source": [
    "employee.__name__"
   ]
  },
  {
   "cell_type": "code",
   "execution_count": 67,
   "metadata": {},
   "outputs": [
    {
     "data": {
      "text/plain": [
       "'__main__'"
      ]
     },
     "execution_count": 67,
     "metadata": {},
     "output_type": "execute_result"
    }
   ],
   "source": [
    "employee.__module__"
   ]
  },
  {
   "cell_type": "code",
   "execution_count": 68,
   "metadata": {},
   "outputs": [
    {
     "data": {
      "text/plain": [
       "mappingproxy({'__module__': '__main__',\n",
       "              'count': 3,\n",
       "              '__init__': <function __main__.employee.__init__(self, name, age)>,\n",
       "              'get_employees_count': <function __main__.employee.get_employees_count(self)>,\n",
       "              'get_employee_details': <function __main__.employee.get_employee_details(self)>,\n",
       "              '__dict__': <attribute '__dict__' of 'employee' objects>,\n",
       "              '__weakref__': <attribute '__weakref__' of 'employee' objects>,\n",
       "              '__doc__': None})"
      ]
     },
     "execution_count": 68,
     "metadata": {},
     "output_type": "execute_result"
    }
   ],
   "source": [
    "employee.__dict__"
   ]
  },
  {
   "cell_type": "code",
   "execution_count": 70,
   "metadata": {},
   "outputs": [
    {
     "data": {
      "text/plain": [
       "(object,)"
      ]
     },
     "execution_count": 70,
     "metadata": {},
     "output_type": "execute_result"
    }
   ],
   "source": [
    "# will print the base class\n",
    "employee.__bases__"
   ]
  }
 ],
 "metadata": {
  "kernelspec": {
   "display_name": "Python 3",
   "language": "python",
   "name": "python3"
  },
  "language_info": {
   "codemirror_mode": {
    "name": "ipython",
    "version": 3
   },
   "file_extension": ".py",
   "mimetype": "text/x-python",
   "name": "python",
   "nbconvert_exporter": "python",
   "pygments_lexer": "ipython3",
   "version": "3.7.3"
  }
 },
 "nbformat": 4,
 "nbformat_minor": 2
}
