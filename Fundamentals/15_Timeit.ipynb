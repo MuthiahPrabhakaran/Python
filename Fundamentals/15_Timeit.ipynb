{
 "cells": [
  {
   "cell_type": "markdown",
   "metadata": {},
   "source": [
    "### This module is to measure the execution time"
   ]
  },
  {
   "cell_type": "code",
   "execution_count": 1,
   "metadata": {},
   "outputs": [],
   "source": [
    "import timeit"
   ]
  },
  {
   "cell_type": "markdown",
   "metadata": {},
   "source": [
    "<pre>\n",
    "<b>timeit.timeit(statement,setup,timer,number)</b>\n",
    "statement - code/statement of which you want to measure the time\n",
    "setup - part of a code that you want to execute before executing the statement(like importing libraries)\n",
    "timer - it has default value. Don't change\n",
    "number - number of times the code has to be executed.(Default is million times)\n",
    "repeat - Number of repeat that we want to consider(optional argument)\n",
    "\n",
    "<b>output</b> - number of <b>seconds</b> it took to execute the code. It will take the best of 3 and print the result\n",
    "</pre>"
   ]
  },
  {
   "cell_type": "code",
   "execution_count": 8,
   "metadata": {},
   "outputs": [
    {
     "name": "stdout",
     "output_type": "stream",
     "text": [
      "2.19165299999986\n"
     ]
    }
   ],
   "source": [
    "my_setup = \"from math import sqrt\"\n",
    "my_code = \"\"\"def some_code():\n",
    "                 my_list = []\n",
    "                 for i in range(0,100):\n",
    "                     my_list.append(sqrt(i))\n",
    "            \"\"\"\n",
    "print(timeit.timeit(setup=my_setup,stmt=my_code,number=10000000))"
   ]
  },
  {
   "cell_type": "markdown",
   "metadata": {},
   "source": [
    "<pre>\n",
    "<b>To run it in console:</b>\n",
    "1. python -m timeit -s \"from math import sqrt\" -r 10 -n 10000 \"sqrt(1000)\"\n",
    "2. python -m timeit \"1+2\"\n",
    "3. python -m timeit -s \"from math import sqrt\" -r 10 -n 10000 \"1+2\"\n",
    "4. python -m timeit -s \"from math import sqrt\" -r 10 -n 10000 \"def some_code():\n",
    "                 my_list = []\n",
    "                 for i in range(0,100):\n",
    "                     my_list.append(sqrt(i))\"\n",
    "</pre>"
   ]
  },
  {
   "cell_type": "markdown",
   "metadata": {},
   "source": [
    "<pre>\n",
    "<b>To compare our function in console:</b>\n",
    "    cd into that directory where my_module is there before executing.\n",
    "<b>python -m timeit -s \"import my_module\" -r 19 \"for i in range(1,100):\n",
    "    my_module.printit(i)\"</b>\n",
    "    \n",
    "    <i>pro tip: when you pass the set of statement in console(like a for loop above or some_code() above), type the function or set of lines in an editor and copy paste in python command </i>\n",
    "</pre>"
   ]
  }
 ],
 "metadata": {
  "kernelspec": {
   "display_name": "Python 3",
   "language": "python",
   "name": "python3"
  },
  "language_info": {
   "codemirror_mode": {
    "name": "ipython",
    "version": 3
   },
   "file_extension": ".py",
   "mimetype": "text/x-python",
   "name": "python",
   "nbconvert_exporter": "python",
   "pygments_lexer": "ipython3",
   "version": "3.7.3"
  }
 },
 "nbformat": 4,
 "nbformat_minor": 2
}
