{
 "cells": [
  {
   "cell_type": "markdown",
   "metadata": {},
   "source": [
    "<pre><b>\n",
    "Protocol - set of rules to communicate between machines.\n",
    "Example - Grammar is a protocol for a language. You have to follow grammar while speaking so that others can understand your communication.\n",
    "USB port - follows usb protocol so that when we plug usb, it reads from usb.\n",
    "\n",
    "Simple Mail Transfer Protocol - to communicate with a mail server, we have to follow SMTP. This handles sending and trasferring mail. Most of the mail servers support SMTP. Different servers uses different port numbers.\n",
    "\n",
    "SMTP is a part of python network library. It is a part of Application Layer.\n",
    "\n",
    "SSL/TLS - standard encryption presents in TCP(Transmission Control Protocol) communication.\n",
    "\n",
    "SSL - Secure Socket Layer\n",
    "TLS - Transport Layer Security\n",
    "\n",
    "Steps to communicate using SMTP:\n",
    "    1. Create SMTP client\n",
    "    2. We have to have host(domain name), port number\n",
    "    \n",
    "We have to pass:    \n",
    "    Host - SMTP server, IP address/Domain(gmail.com)\n",
    "    Port - SMTP server will be listening(587 for tls, 465 for ssl with gmail)\n",
    "    Sender - String of sender email id\n",
    "    Password - Password string for sender email\n",
    "    Receiver - String or list of string of to email id(s)\n",
    "    Message - Actual message that we want to pass(It is also a string)\n",
    "    Subject - optional\n",
    "\n",
    "SMTP communication is not secure. So we have to find a way to send the mail in unsecure way. Just check with the email server for making it less secure.\n",
    "\n",
    "For network call, always have a try/except block\n",
    "</pre></b>"
   ]
  },
  {
   "cell_type": "code",
   "execution_count": 3,
   "metadata": {},
   "outputs": [],
   "source": [
    "import smtplib"
   ]
  },
  {
   "cell_type": "code",
   "execution_count": 4,
   "metadata": {},
   "outputs": [
    {
     "ename": "SMTPAuthenticationError",
     "evalue": "(535, b'5.7.8 Username and Password not accepted. Learn more at\\n5.7.8  https://support.google.com/mail/?p=BadCredentials z126sm15469026pfc.94 - gsmtp')",
     "output_type": "error",
     "traceback": [
      "\u001b[1;31m---------------------------------------------------------------------------\u001b[0m",
      "\u001b[1;31mSMTPAuthenticationError\u001b[0m                   Traceback (most recent call last)",
      "\u001b[1;32m<ipython-input-4-2ca596a5efd4>\u001b[0m in \u001b[0;36m<module>\u001b[1;34m\u001b[0m\n\u001b[0;32m      4\u001b[0m \u001b[0mpwd\u001b[0m \u001b[1;33m=\u001b[0m \u001b[1;34m\"dummy-pwd\"\u001b[0m\u001b[1;33m\u001b[0m\u001b[1;33m\u001b[0m\u001b[0m\n\u001b[0;32m      5\u001b[0m \u001b[0mto_email_id\u001b[0m \u001b[1;33m=\u001b[0m \u001b[1;34m\"sender email\"\u001b[0m\u001b[1;33m\u001b[0m\u001b[1;33m\u001b[0m\u001b[0m\n\u001b[1;32m----> 6\u001b[1;33m \u001b[0mserver\u001b[0m\u001b[1;33m.\u001b[0m\u001b[0mlogin\u001b[0m\u001b[1;33m(\u001b[0m\u001b[0memail_id\u001b[0m\u001b[1;33m,\u001b[0m\u001b[0mpwd\u001b[0m\u001b[1;33m)\u001b[0m\u001b[1;33m\u001b[0m\u001b[1;33m\u001b[0m\u001b[0m\n\u001b[0m\u001b[0;32m      7\u001b[0m \u001b[0mmessage\u001b[0m \u001b[1;33m=\u001b[0m \u001b[1;34m\"Hello from Jupyter\"\u001b[0m\u001b[1;33m\u001b[0m\u001b[1;33m\u001b[0m\u001b[0m\n\u001b[0;32m      8\u001b[0m \u001b[0mserver\u001b[0m\u001b[1;33m.\u001b[0m\u001b[0msendmail\u001b[0m\u001b[1;33m(\u001b[0m\u001b[0memail_id\u001b[0m\u001b[1;33m,\u001b[0m\u001b[0mto_email_id\u001b[0m\u001b[1;33m,\u001b[0m\u001b[0mmessage\u001b[0m\u001b[1;33m)\u001b[0m\u001b[1;33m\u001b[0m\u001b[1;33m\u001b[0m\u001b[0m\n",
      "\u001b[1;32m~\\Anaconda3\\lib\\smtplib.py\u001b[0m in \u001b[0;36mlogin\u001b[1;34m(self, user, password, initial_response_ok)\u001b[0m\n\u001b[0;32m    728\u001b[0m \u001b[1;33m\u001b[0m\u001b[0m\n\u001b[0;32m    729\u001b[0m         \u001b[1;31m# We could not login successfully.  Return result of last attempt.\u001b[0m\u001b[1;33m\u001b[0m\u001b[1;33m\u001b[0m\u001b[1;33m\u001b[0m\u001b[0m\n\u001b[1;32m--> 730\u001b[1;33m         \u001b[1;32mraise\u001b[0m \u001b[0mlast_exception\u001b[0m\u001b[1;33m\u001b[0m\u001b[1;33m\u001b[0m\u001b[0m\n\u001b[0m\u001b[0;32m    731\u001b[0m \u001b[1;33m\u001b[0m\u001b[0m\n\u001b[0;32m    732\u001b[0m     \u001b[1;32mdef\u001b[0m \u001b[0mstarttls\u001b[0m\u001b[1;33m(\u001b[0m\u001b[0mself\u001b[0m\u001b[1;33m,\u001b[0m \u001b[0mkeyfile\u001b[0m\u001b[1;33m=\u001b[0m\u001b[1;32mNone\u001b[0m\u001b[1;33m,\u001b[0m \u001b[0mcertfile\u001b[0m\u001b[1;33m=\u001b[0m\u001b[1;32mNone\u001b[0m\u001b[1;33m,\u001b[0m \u001b[0mcontext\u001b[0m\u001b[1;33m=\u001b[0m\u001b[1;32mNone\u001b[0m\u001b[1;33m)\u001b[0m\u001b[1;33m:\u001b[0m\u001b[1;33m\u001b[0m\u001b[1;33m\u001b[0m\u001b[0m\n",
      "\u001b[1;32m~\\Anaconda3\\lib\\smtplib.py\u001b[0m in \u001b[0;36mlogin\u001b[1;34m(self, user, password, initial_response_ok)\u001b[0m\n\u001b[0;32m    719\u001b[0m                 (code, resp) = self.auth(\n\u001b[0;32m    720\u001b[0m                     \u001b[0mauthmethod\u001b[0m\u001b[1;33m,\u001b[0m \u001b[0mgetattr\u001b[0m\u001b[1;33m(\u001b[0m\u001b[0mself\u001b[0m\u001b[1;33m,\u001b[0m \u001b[0mmethod_name\u001b[0m\u001b[1;33m)\u001b[0m\u001b[1;33m,\u001b[0m\u001b[1;33m\u001b[0m\u001b[1;33m\u001b[0m\u001b[0m\n\u001b[1;32m--> 721\u001b[1;33m                     initial_response_ok=initial_response_ok)\n\u001b[0m\u001b[0;32m    722\u001b[0m                 \u001b[1;31m# 235 == 'Authentication successful'\u001b[0m\u001b[1;33m\u001b[0m\u001b[1;33m\u001b[0m\u001b[1;33m\u001b[0m\u001b[0m\n\u001b[0;32m    723\u001b[0m                 \u001b[1;31m# 503 == 'Error: already authenticated'\u001b[0m\u001b[1;33m\u001b[0m\u001b[1;33m\u001b[0m\u001b[1;33m\u001b[0m\u001b[0m\n",
      "\u001b[1;32m~\\Anaconda3\\lib\\smtplib.py\u001b[0m in \u001b[0;36mauth\u001b[1;34m(self, mechanism, authobject, initial_response_ok)\u001b[0m\n\u001b[0;32m    640\u001b[0m         \u001b[1;32mif\u001b[0m \u001b[0mcode\u001b[0m \u001b[1;32min\u001b[0m \u001b[1;33m(\u001b[0m\u001b[1;36m235\u001b[0m\u001b[1;33m,\u001b[0m \u001b[1;36m503\u001b[0m\u001b[1;33m)\u001b[0m\u001b[1;33m:\u001b[0m\u001b[1;33m\u001b[0m\u001b[1;33m\u001b[0m\u001b[0m\n\u001b[0;32m    641\u001b[0m             \u001b[1;32mreturn\u001b[0m \u001b[1;33m(\u001b[0m\u001b[0mcode\u001b[0m\u001b[1;33m,\u001b[0m \u001b[0mresp\u001b[0m\u001b[1;33m)\u001b[0m\u001b[1;33m\u001b[0m\u001b[1;33m\u001b[0m\u001b[0m\n\u001b[1;32m--> 642\u001b[1;33m         \u001b[1;32mraise\u001b[0m \u001b[0mSMTPAuthenticationError\u001b[0m\u001b[1;33m(\u001b[0m\u001b[0mcode\u001b[0m\u001b[1;33m,\u001b[0m \u001b[0mresp\u001b[0m\u001b[1;33m)\u001b[0m\u001b[1;33m\u001b[0m\u001b[1;33m\u001b[0m\u001b[0m\n\u001b[0m\u001b[0;32m    643\u001b[0m \u001b[1;33m\u001b[0m\u001b[0m\n\u001b[0;32m    644\u001b[0m     \u001b[1;32mdef\u001b[0m \u001b[0mauth_cram_md5\u001b[0m\u001b[1;33m(\u001b[0m\u001b[0mself\u001b[0m\u001b[1;33m,\u001b[0m \u001b[0mchallenge\u001b[0m\u001b[1;33m=\u001b[0m\u001b[1;32mNone\u001b[0m\u001b[1;33m)\u001b[0m\u001b[1;33m:\u001b[0m\u001b[1;33m\u001b[0m\u001b[1;33m\u001b[0m\u001b[0m\n",
      "\u001b[1;31mSMTPAuthenticationError\u001b[0m: (535, b'5.7.8 Username and Password not accepted. Learn more at\\n5.7.8  https://support.google.com/mail/?p=BadCredentials z126sm15469026pfc.94 - gsmtp')"
     ]
    }
   ],
   "source": [
    "email_id = \"xyz@gmail.com\"\n",
    "pwd = \"dummy-pwd\"\n",
    "to = \"sender email\"\n",
    "message = \"test subject\"\n",
    "\n",
    "# Creating the server with host and port\n",
    "server = smtplib.SMTP('smtp.gmail.com',587)\n",
    "server.starttls() # Secure the communication\n",
    "\n",
    "# For SSL, comment the above 2 lines and uncomment the below line\n",
    "# server = smtplib.SMTP_SSL('smtp.gmail.com',465)\n",
    "server.login(email_id,pwd)\n",
    "server.sendmail(email_id,to,message)\n",
    "server.quit()"
   ]
  },
  {
   "cell_type": "markdown",
   "metadata": {},
   "source": [
    "<pre>\n",
    "By default, you will get the error\n",
    "<b>SMTPAuthenticationError: (535, b'5.7.8 Username and Password not accepted. Learn more at\\n5.7.8  https://support.google.com/mail/?p=BadCredentials z126sm15469026pfc.94 - gsmtp')</b>\n",
    "\n",
    "Google: less secure apps gmail(https://myaccount.google.com/lesssecureapps)\n",
    "switch on this. We have to make the gmail less secure in order to send mail through smtp.\n",
    "We have to turn off the 2 factor authentication also\n",
    "</pre>"
   ]
  },
  {
   "cell_type": "code",
   "execution_count": 8,
   "metadata": {},
   "outputs": [
    {
     "data": {
      "text/plain": [
       "(221, b'2.0.0 closing connection 5sm17745187pfw.25 - gsmtp')"
      ]
     },
     "execution_count": 8,
     "metadata": {},
     "output_type": "execute_result"
    }
   ],
   "source": [
    "email_id = \"test@gmail.com\"\n",
    "pwd = \"pwd\"\n",
    "to = \"to@gmail.com\"\n",
    "message = \"test subject\"\n",
    "\n",
    "# Creating the server with host and port\n",
    "server = smtplib.SMTP('smtp.gmail.com',587)\n",
    "server.starttls() # Secure the communication\n",
    "\n",
    "# For SSL, comment the above 2 lines and uncomment the below line\n",
    "# server = smtplib.SMTP_SSL('smtp.gmail.com',465)\n",
    "server.login(email_id,pwd)\n",
    "server.sendmail(email_id,to,message)\n",
    "server.quit()"
   ]
  },
  {
   "cell_type": "markdown",
   "metadata": {},
   "source": [
    "<pre><b>\n",
    "To send mails to multiple accounts\n",
    "</b></pre>"
   ]
  },
  {
   "cell_type": "code",
   "execution_count": 12,
   "metadata": {},
   "outputs": [
    {
     "data": {
      "text/plain": [
       "(221, b'2.0.0 closing connection x18sm16984114pfc.93 - gsmtp')"
      ]
     },
     "execution_count": 12,
     "metadata": {},
     "output_type": "execute_result"
    }
   ],
   "source": [
    "email_id = \"from@gmail.com\"\n",
    "pwd = \"pwd\"\n",
    "emails = [\"user1@gmail.com\",\"user2@gmail.com\"]\n",
    "message = \"new mail\"\n",
    "\n",
    "# Creating the server with host and port\n",
    "server = smtplib.SMTP('smtp.gmail.com',587)\n",
    "server.starttls() # Secure the communication\n",
    "\n",
    "# For SSL, comment the above 2 lines and uncomment the below line\n",
    "# server = smtplib.SMTP_SSL('smtp.gmail.com',465)\n",
    "server.login(email_id,pwd)\n",
    "server.sendmail(email_id,emails,message)\n",
    "server.quit()"
   ]
  },
  {
   "cell_type": "markdown",
   "metadata": {},
   "source": [
    "### SSL"
   ]
  },
  {
   "cell_type": "code",
   "execution_count": 6,
   "metadata": {},
   "outputs": [
    {
     "data": {
      "text/plain": [
       "(221, b'2.0.0 closing connection f43sm15538210pjg.35 - gsmtp')"
      ]
     },
     "execution_count": 6,
     "metadata": {},
     "output_type": "execute_result"
    }
   ],
   "source": [
    "email_id = \"from@gmail.com\"\n",
    "pwd = \"pwd\"\n",
    "to = \"to@gmail.com\"\n",
    "message = \"test subject\"\n",
    "\n",
    "# Creating the server with host and port\n",
    "server = smtplib.SMTP_SSL('smtp.gmail.com',465)\n",
    "\n",
    "# For SSL, comment the above 2 lines and uncomment the below line\n",
    "# server = smtplib.SMTP_SSL('smtp.gmail.com',465)\n",
    "server.login(email_id,pwd)\n",
    "server.sendmail(email_id,to,message)\n",
    "server.quit()"
   ]
  },
  {
   "cell_type": "markdown",
   "metadata": {},
   "source": [
    "<pre><b>\n",
    "Mail with subject\n",
    "</b></pre>"
   ]
  },
  {
   "cell_type": "code",
   "execution_count": 13,
   "metadata": {},
   "outputs": [
    {
     "name": "stdout",
     "output_type": "stream",
     "text": [
      "Mail sent\n"
     ]
    },
    {
     "data": {
      "text/plain": [
       "(221, b'2.0.0 closing connection x12sm16810281pff.48 - gsmtp')"
      ]
     },
     "execution_count": 13,
     "metadata": {},
     "output_type": "execute_result"
    }
   ],
   "source": [
    "from_email_id = \"from@gmail.com\"\n",
    "pwd = \"pwd\"\n",
    "to = \"to@gmail.com\"\n",
    "subject = \"test subject\"\n",
    "message = \"Hello from Jupyter\"\n",
    "\n",
    "# Creating the server with host and port\n",
    "server = smtplib.SMTP_SSL('smtp.gmail.com',465)\n",
    "server.login(email_id,pwd)\n",
    "# \\r - carriage return - previous data gets appended\n",
    "\"\"\"\n",
    "body = \"\\r\\n\".join(['To:{}'.format(to), 'From:{}'.format(from_email_id),\n",
    "                    'Subject:{}'.format(subject), 'Message: {}'.format(message)])\n",
    "\"\"\"\n",
    "body = \"\\r\\n\".join(['To:%s'%to, 'From:%s'%from_email_id,\n",
    "                    'Subject:%s'%subject,message])\n",
    "\n",
    "try:\n",
    "    server.sendmail(from_email_id,to,body)\n",
    "    print(\"Mail sent\")\n",
    "except Exception as e:\n",
    "    print(str(e))\n",
    "server.quit()"
   ]
  },
  {
   "cell_type": "markdown",
   "metadata": {},
   "source": [
    "<pre>\n",
    "b represents the data returned as a byte\n",
    "(221, b'2.0.0 closing connection x12sm16810281pff.48 - gsmtp')\n",
    "</pre>"
   ]
  }
 ],
 "metadata": {
  "kernelspec": {
   "display_name": "Python 3",
   "language": "python",
   "name": "python3"
  },
  "language_info": {
   "codemirror_mode": {
    "name": "ipython",
    "version": 3
   },
   "file_extension": ".py",
   "mimetype": "text/x-python",
   "name": "python",
   "nbconvert_exporter": "python",
   "pygments_lexer": "ipython3",
   "version": "3.7.3"
  }
 },
 "nbformat": 4,
 "nbformat_minor": 2
}
