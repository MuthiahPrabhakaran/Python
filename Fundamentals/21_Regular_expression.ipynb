{
 "cells": [
  {
   "cell_type": "markdown",
   "metadata": {},
   "source": [
    "<pre><b>\n",
    "It used to\n",
    "    - clean/extract the data\n",
    "    - find and replace sequence of characters/string    \n",
    "    \n",
    "By default, search is case sensitive\n",
    "</b></pre>"
   ]
  },
  {
   "cell_type": "code",
   "execution_count": 2,
   "metadata": {},
   "outputs": [],
   "source": [
    "import re"
   ]
  },
  {
   "cell_type": "markdown",
   "metadata": {},
   "source": [
    "<pre><b>\n",
    "match() - to match the starting character of a string\n",
    "param1 - what you want to search?\n",
    "param2 - In which string, you want to search?\n",
    "</b></pre>"
   ]
  },
  {
   "cell_type": "code",
   "execution_count": 10,
   "metadata": {},
   "outputs": [
    {
     "name": "stdout",
     "output_type": "stream",
     "text": [
      "<re.Match object; span=(0, 2), match='Hi'>\n",
      "Starting index:  0\n",
      "Ending index:  2\n"
     ]
    }
   ],
   "source": [
    "result = re.match(r\"Hi\", \"Hi, this is the first program\")\n",
    "print(result) #result span(0,2) -> result matched in the span 0 to 2 \n",
    "print(\"Starting index: \", result.start())\n",
    "print(\"Ending index: \", result.end())"
   ]
  },
  {
   "cell_type": "code",
   "execution_count": 8,
   "metadata": {},
   "outputs": [
    {
     "name": "stdout",
     "output_type": "stream",
     "text": [
      "None\n"
     ]
    }
   ],
   "source": [
    "result = re.match(r\"Hi\", \"We, Hi, this is the first program\")\n",
    "print(result)"
   ]
  },
  {
   "cell_type": "markdown",
   "metadata": {},
   "source": [
    "<pre><b>\n",
    "search() - to match anywhere in the string. But it will display the first occurance also.\n",
    "</b></pre>"
   ]
  },
  {
   "cell_type": "code",
   "execution_count": 15,
   "metadata": {},
   "outputs": [
    {
     "name": "stdout",
     "output_type": "stream",
     "text": [
      "<re.Match object; span=(8, 11), match='the'>\n"
     ]
    }
   ],
   "source": [
    "result = re.search(r\"the\", \"this is the first program\")\n",
    "print(result)"
   ]
  },
  {
   "cell_type": "code",
   "execution_count": 16,
   "metadata": {},
   "outputs": [
    {
     "name": "stdout",
     "output_type": "stream",
     "text": [
      "<re.Match object; span=(8, 11), match='the'>\n"
     ]
    }
   ],
   "source": [
    "result = re.search(r\"the\", \"this is the first program, the name is python\")\n",
    "print(result)"
   ]
  },
  {
   "cell_type": "markdown",
   "metadata": {},
   "source": [
    "<pre><b>\n",
    "findall() - to match anywhere in the string, returns all occurances.\n",
    "</b></pre>"
   ]
  },
  {
   "cell_type": "code",
   "execution_count": 20,
   "metadata": {},
   "outputs": [
    {
     "name": "stdout",
     "output_type": "stream",
     "text": [
      "['the', 'the', 'the']\n"
     ]
    }
   ],
   "source": [
    "result = re.findall(r\"the\", \"this is the first program, the name is python. there is a book\")\n",
    "print(result)"
   ]
  },
  {
   "cell_type": "markdown",
   "metadata": {},
   "source": [
    "<pre><b>\n",
    "split() - split based on the matching string\n",
    "</b></pre>"
   ]
  },
  {
   "cell_type": "code",
   "execution_count": 21,
   "metadata": {},
   "outputs": [
    {
     "name": "stdout",
     "output_type": "stream",
     "text": [
      "['Pr', 'hakaran']\n"
     ]
    }
   ],
   "source": [
    "result = re.split(r\"ab\", \"Prabhakaran\")\n",
    "print(result)"
   ]
  },
  {
   "cell_type": "code",
   "execution_count": 23,
   "metadata": {},
   "outputs": [
    {
     "data": {
      "text/plain": [
       "['pr', 'ha']"
      ]
     },
     "execution_count": 23,
     "metadata": {},
     "output_type": "execute_result"
    }
   ],
   "source": [
    "# Same works with string also\n",
    "r = \"prabha\"\n",
    "r.split(\"ab\")"
   ]
  },
  {
   "cell_type": "code",
   "execution_count": 24,
   "metadata": {},
   "outputs": [
    {
     "name": "stdout",
     "output_type": "stream",
     "text": [
      "['Pr', 'bhakaran']\n"
     ]
    }
   ],
   "source": [
    "# Max split - it will give a max split\n",
    "result = re.split(r\"a\", \"Prabhakaran\", maxsplit=1)\n",
    "print(result)"
   ]
  },
  {
   "cell_type": "code",
   "execution_count": 25,
   "metadata": {},
   "outputs": [
    {
     "name": "stdout",
     "output_type": "stream",
     "text": [
      "['Pr', 'bh', 'karan']\n"
     ]
    }
   ],
   "source": [
    "result = re.split(r\"a\", \"Prabhakaran\", maxsplit=2)\n",
    "print(result)"
   ]
  },
  {
   "cell_type": "code",
   "execution_count": 26,
   "metadata": {},
   "outputs": [
    {
     "name": "stdout",
     "output_type": "stream",
     "text": [
      "['Pr', 'bh', 'k', 'ran']\n"
     ]
    }
   ],
   "source": [
    "result = re.split(r\"a\", \"Prabhakaran\", maxsplit=3)\n",
    "print(result)"
   ]
  },
  {
   "cell_type": "code",
   "execution_count": 27,
   "metadata": {},
   "outputs": [
    {
     "name": "stdout",
     "output_type": "stream",
     "text": [
      "['Pr', 'bh', 'k', 'r', 'n']\n"
     ]
    }
   ],
   "source": [
    "result = re.split(r\"a\", \"Prabhakaran\", maxsplit=4)\n",
    "print(result)"
   ]
  },
  {
   "cell_type": "code",
   "execution_count": 29,
   "metadata": {},
   "outputs": [
    {
     "name": "stdout",
     "output_type": "stream",
     "text": [
      "['Pr', 'bh', 'k', 'r', 'n']\n"
     ]
    }
   ],
   "source": [
    "# After the max split, whatever the maxsplit number, it will result the same as max split\n",
    "result = re.split(r\"a\", \"Prabhakaran\", maxsplit=5)\n",
    "print(result)"
   ]
  },
  {
   "cell_type": "markdown",
   "metadata": {},
   "source": [
    "<pre><b>\n",
    "sub() - subtitutes the matching string. If unmatches, result will be the same input string\n",
    "re.sub(pattern, substitute string, result string where replace should happen)\n",
    "</b></pre>"
   ]
  },
  {
   "cell_type": "code",
   "execution_count": 35,
   "metadata": {},
   "outputs": [
    {
     "name": "stdout",
     "output_type": "stream",
     "text": [
      "Hi, This is MP\n"
     ]
    }
   ],
   "source": [
    "result = re.sub(r\"Prabhakaran\", \"MP\", \"Hi, This is Prabhakaran\")\n",
    "print(result)"
   ]
  },
  {
   "cell_type": "markdown",
   "metadata": {},
   "source": [
    "<pre><b>\n",
    "compile() - we can create a patttern one time to do search again and again\n",
    "</b></pre>"
   ]
  },
  {
   "cell_type": "code",
   "execution_count": 39,
   "metadata": {},
   "outputs": [
    {
     "name": "stdout",
     "output_type": "stream",
     "text": [
      "['the', 'the']\n"
     ]
    }
   ],
   "source": [
    "pattern = re.compile(\"the\")\n",
    "result = pattern.findall(\"the godzilla name is the godzilla\")\n",
    "print(result)"
   ]
  },
  {
   "cell_type": "markdown",
   "metadata": {},
   "source": [
    "<pre><b>\n",
    "Operators - helps us to generate expression to replace character/string\n",
    "\n",
    "dot operator - matches with any single character except new line but includes space\n",
    "</b></pre>"
   ]
  },
  {
   "cell_type": "code",
   "execution_count": 41,
   "metadata": {},
   "outputs": [
    {
     "name": "stdout",
     "output_type": "stream",
     "text": [
      "['T', 'h', 'i', 's', ' ', 'i', 's', ' ', 't', 'h', 'e', ' ', 'p', 'r', 'o', 'g', 'r', 'a', 'm', 'h', 'e']\n"
     ]
    }
   ],
   "source": [
    "result = re.findall(r\".\", \"This is the program\\nhe\")\n",
    "print(result)"
   ]
  },
  {
   "cell_type": "markdown",
   "metadata": {},
   "source": [
    "<pre><b>\n",
    "\\w backslash w operator - matches with any single character except new line and space\n",
    "</b></pre>"
   ]
  },
  {
   "cell_type": "code",
   "execution_count": 43,
   "metadata": {},
   "outputs": [
    {
     "name": "stdout",
     "output_type": "stream",
     "text": [
      "['T', 'h', 'i', 's', 'i', 's', 't', 'h', 'e', 'p', 'r', 'o', 'g', 'r', 'a', 'm', 'h', 'e']\n"
     ]
    }
   ],
   "source": [
    "result = re.findall(r\"\\w\", \"This is the program\\nhe\")\n",
    "print(result)"
   ]
  },
  {
   "cell_type": "markdown",
   "metadata": {},
   "source": [
    "<pre><b>\n",
    "*  - matches with any word. space and new lines are considered as empty string\n",
    "</b></pre>"
   ]
  },
  {
   "cell_type": "code",
   "execution_count": 49,
   "metadata": {},
   "outputs": [
    {
     "name": "stdout",
     "output_type": "stream",
     "text": [
      "['This', '', 'is', '', 'the', '', 'program', '', 'he', '']\n"
     ]
    }
   ],
   "source": [
    "result = re.findall(r\"\\w*\", \"This is the program\\nhe\")\n",
    "print(result)"
   ]
  },
  {
   "cell_type": "markdown",
   "metadata": {},
   "source": [
    "<pre><b>\n",
    "+  - matches with any word. space and new lines are omitted\n",
    "</b></pre>"
   ]
  },
  {
   "cell_type": "code",
   "execution_count": 47,
   "metadata": {},
   "outputs": [
    {
     "name": "stdout",
     "output_type": "stream",
     "text": [
      "['This', 'is', 'the', 'program', 'he']\n"
     ]
    }
   ],
   "source": [
    "result = re.findall(r\"\\w+\", \"This is the program\\nhe\")\n",
    "print(result)"
   ]
  },
  {
   "cell_type": "markdown",
   "metadata": {},
   "source": [
    "<pre><b>\n",
    "^  - matches with only the first word\n",
    "</b></pre>"
   ]
  },
  {
   "cell_type": "code",
   "execution_count": 52,
   "metadata": {},
   "outputs": [
    {
     "name": "stdout",
     "output_type": "stream",
     "text": [
      "['This']\n"
     ]
    }
   ],
   "source": [
    "result = re.findall(r\"^\\w+\", \"This is the program\\nhe\")\n",
    "print(result)"
   ]
  },
  {
   "cell_type": "markdown",
   "metadata": {},
   "source": [
    "<pre><b>\n",
    "$  - matches with only the last word\n",
    "</b></pre>"
   ]
  },
  {
   "cell_type": "code",
   "execution_count": 54,
   "metadata": {},
   "outputs": [
    {
     "name": "stdout",
     "output_type": "stream",
     "text": [
      "['he']\n"
     ]
    }
   ],
   "source": [
    "result = re.findall(r\"\\w+$\", \"This is the program\\nhe\")\n",
    "print(result)"
   ]
  },
  {
   "cell_type": "markdown",
   "metadata": {},
   "source": [
    "<pre><b>\n",
    "\\w\\w twice of backslash w operator - matches with any 2 characters\n",
    "</b></pre>"
   ]
  },
  {
   "cell_type": "code",
   "execution_count": 55,
   "metadata": {},
   "outputs": [
    {
     "name": "stdout",
     "output_type": "stream",
     "text": [
      "['Th', 'is', 'is', 'th', 'pr', 'og', 'ra', 'he']\n"
     ]
    }
   ],
   "source": [
    "result = re.findall(r\"\\w\\w\", \"This is the program\\nhe\")\n",
    "print(result)"
   ]
  },
  {
   "cell_type": "markdown",
   "metadata": {},
   "source": [
    "<pre><b>\n",
    "Fetch first 2 chars of all words\n",
    "</b></pre>"
   ]
  },
  {
   "cell_type": "code",
   "execution_count": null,
   "metadata": {},
   "outputs": [],
   "source": []
  }
 ],
 "metadata": {
  "kernelspec": {
   "display_name": "Python 3",
   "language": "python",
   "name": "python3"
  },
  "language_info": {
   "codemirror_mode": {
    "name": "ipython",
    "version": 3
   },
   "file_extension": ".py",
   "mimetype": "text/x-python",
   "name": "python",
   "nbconvert_exporter": "python",
   "pygments_lexer": "ipython3",
   "version": "3.7.3"
  }
 },
 "nbformat": 4,
 "nbformat_minor": 2
}
